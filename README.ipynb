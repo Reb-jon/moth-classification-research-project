{
 "cells": [
  {
   "cell_type": "code",
   "execution_count": null,
   "id": "043e2b69",
   "metadata": {},
   "outputs": [],
   "source": [
    "## 📥 Datasets Setup\n",
    "\n",
    "This project uses two datasets. Please download them manually and place them in the `data/` folder.\n",
    "\n",
    "### 1. 🦋 Kaggle Moths Dataset\n",
    "- Source: [Kaggle - Moths Image Dataset](https://www.kaggle.com/datasets/gpiosenka/moths-image-datasetclassification)\n",
    "- Method:\n",
    "    - Option 1: Download manually and unzip into `data/kaggle-dataset/`\n",
    "    - Option 2: Use `kagglehub` or the Kaggle API:\n",
    "      ```python\n",
    "      import kagglehub\n",
    "      path = kagglehub.dataset_download(\"gpiosenka/moths-image-datasetclassification\")\n",
    "      ```\n",
    "\n",
    "### 2. 🐛 AMI Dataset\n",
    "- Source: [Zenodo - AMI Dataset](https://zenodo.org/records/12554005)\n",
    "- Method:\n",
    "    - Download and unzip the contents into `data/ami-dataset/`\n",
    "    - Your folder should look like:\n",
    "      ```\n",
    "      data/ami-dataset/\n",
    "      ├── ami_gbif/\n",
    "      ├── ami_traps/\n",
    "      └── __MACOSX/ (optional)\n",
    "      ```\n",
    "\n",
    "Ensure all paths in your notebooks use relative paths like:\n",
    "```python\n",
    "from pathlib import Path\n",
    "DATA_DIR = Path(\"../data/kaggle-dataset/\")\n"
   ]
  }
 ],
 "metadata": {
  "language_info": {
   "name": "python"
  }
 },
 "nbformat": 4,
 "nbformat_minor": 5
}
