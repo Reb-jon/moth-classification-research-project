{
 "cells": [
  {
   "cell_type": "code",
   "execution_count": null,
   "id": "4ca0fcaa",
   "metadata": {},
   "outputs": [
    {
     "name": "stdout",
     "output_type": "stream",
     "text": [
      "Found 11432 moth species in AMI Traps:\n",
      "['Abablemma discipuncta', 'Abablemma grandimacula', 'Abablemma sp.', 'Abablemma ulopus', 'Abagrotis alternata', 'Abagrotis anchocelioides', 'Abagrotis benjamini', 'Abagrotis brunneipennis', 'Abagrotis cupida', 'Abagrotis forbesi']\n"
     ]
    }
   ],
   "source": [
    "from pathlib import Path\n",
    "\n",
    "# Set path to ami_traps/classes file (relative and reproducible)\n",
    "ami_species_list_path = Path(\"../data/ami-dataset/archive/ami_traps/ami_traps_dataset/classes.txt\")\n",
    "\n",
    "# Read species (Latin names)\n",
    "with open(ami_species_list_path, 'r') as f:\n",
    "    ami_species = [line.strip() for line in f.readlines()]\n",
    "\n",
    "print(f\"Found {len(ami_species)} moth species in AMI Traps:\")\n",
    "print(ami_species[:10])  # Show first 10"
   ]
  },
  {
   "cell_type": "code",
   "execution_count": 5,
   "id": "c4532a8b",
   "metadata": {},
   "outputs": [
    {
     "name": "stdout",
     "output_type": "stream",
     "text": [
      "Found 3 folders in ami_traps_dataset:\n",
      "['images', 'labels', 'metadata']\n"
     ]
    }
   ],
   "source": [
    "ami_traps_dataset_path = Path(\"../data/ami-dataset/archive/ami_traps/ami_traps_dataset\")\n",
    "\n",
    "# List available trap image folders\n",
    "trap_subfolders = sorted([f.name for f in ami_traps_dataset_path.iterdir() if f.is_dir()])\n",
    "print(f\"Found {len(trap_subfolders)} folders in ami_traps_dataset:\")\n",
    "print(trap_subfolders[:5])"
   ]
  },
  {
   "cell_type": "code",
   "execution_count": null,
   "id": "101151a6",
   "metadata": {},
   "outputs": [],
   "source": []
  }
 ],
 "metadata": {
  "kernelspec": {
   "display_name": "base",
   "language": "python",
   "name": "python3"
  },
  "language_info": {
   "codemirror_mode": {
    "name": "ipython",
    "version": 3
   },
   "file_extension": ".py",
   "mimetype": "text/x-python",
   "name": "python",
   "nbconvert_exporter": "python",
   "pygments_lexer": "ipython3",
   "version": "3.12.3"
  }
 },
 "nbformat": 4,
 "nbformat_minor": 5
}
