{
 "cells": [
  {
   "cell_type": "code",
   "execution_count": null,
   "id": "15ac1896",
   "metadata": {},
   "outputs": [
    {
     "name": "stdout",
     "output_type": "stream",
     "text": [
      "Augmenting BANDED TIGER MOTH (136 images)...\n",
      "Augmenting CLEARWING MOTH (122 images)...\n",
      "Augmenting HUMMING BIRD HAWK MOTH (143 images)...\n",
      "Augmenting MUSLIN MOTH (168 images)...\n",
      "Augmenting GARDEN TIGER MOTH (131 images)...\n",
      "Augmenting BLACK RUSTIC MOTH (134 images)...\n",
      "Augmenting SQUARE SPOT RUSTIC MOTH (146 images)...\n"
     ]
    }
   ],
   "source": [
    "from PIL import Image, ImageEnhance, ImageOps\n",
    "import os\n",
    "from pathlib import Path\n",
    "import random\n",
    "\n",
    "# Set seed for reproducibility\n",
    "random.seed(42)\n",
    "\n",
    "# Base path to the training set\n",
    "train_dir = Path(\"../data/targeted_augmented_dataset/train\")\n",
    "\n",
    "# Define target species needing extra augmentation\n",
    "target_species = [\n",
    "    \"BANDED TIGER MOTH\",      \n",
    "    \"CLEARWING MOTH\",         \n",
    "    \"HUMMING BIRD HAWK MOTH\", \n",
    "    \"MUSLIN MOTH\",            \n",
    "    \"GARDEN TIGER MOTH\",      \n",
    "    \"BLACK RUSTIC MOTH\",      \n",
    "    \"SQUARE SPOT RUSTIC MOTH\" \n",
    "]\n",
    "\n",
    "# Define extra augmentations\n",
    "def apply_extra_augmentations(image):\n",
    "    transforms = []\n",
    "    \n",
    "    # Vertical flip\n",
    "    transforms.append(ImageOps.flip(image))\n",
    "    \n",
    "    # Rotate 30 degrees\n",
    "    transforms.append(image.rotate(30))\n",
    "    \n",
    "    # Add one more rotation angle for variety\n",
    "    transforms.append(image.rotate(-25))  # Counter-clockwise too\n",
    "    \n",
    "    # Convert to grayscale\n",
    "    transforms.append(ImageOps.grayscale(image).convert(\"RGB\"))\n",
    "    \n",
    "    # Sharpness enhancement\n",
    "    enhancer = ImageEnhance.Sharpness(image)\n",
    "    transforms.append(enhancer.enhance(2.0))  # sharpened\n",
    "    \n",
    "    # Contrast adjustment\n",
    "    enhancer = ImageEnhance.Contrast(image)\n",
    "    transforms.append(enhancer.enhance(1.5))  # higher contrast\n",
    "    \n",
    "    # Slight brightness variation\n",
    "    enhancer = ImageEnhance.Brightness(image)\n",
    "    transforms.append(enhancer.enhance(1.2))\n",
    "    \n",
    "    return transforms\n",
    "\n",
    "# Augment and save\n",
    "for species in target_species:\n",
    "    species_dir = train_dir / species\n",
    "    image_files = list(species_dir.glob(\"*.jpg\"))\n",
    "    print(f\"Augmenting {species} ({len(image_files)} images)...\")\n",
    "    \n",
    "    for image_path in image_files:\n",
    "        try:\n",
    "            with Image.open(image_path) as img:\n",
    "                augmented_imgs = apply_extra_augmentations(img)\n",
    "                for i, aug_img in enumerate(augmented_imgs):\n",
    "                    new_filename = image_path.stem + f\"_aug{i+1}.jpg\"\n",
    "                    aug_img.save(species_dir / new_filename)\n",
    "        except Exception as e:\n",
    "            print(f\"Error processing {image_path.name}: {e}\")\n"
   ]
  }
 ],
 "metadata": {
  "kernelspec": {
   "display_name": "base",
   "language": "python",
   "name": "python3"
  },
  "language_info": {
   "codemirror_mode": {
    "name": "ipython",
    "version": 3
   },
   "file_extension": ".py",
   "mimetype": "text/x-python",
   "name": "python",
   "nbconvert_exporter": "python",
   "pygments_lexer": "ipython3",
   "version": "3.12.3"
  }
 },
 "nbformat": 4,
 "nbformat_minor": 5
}
